{
 "cells": [
  {
   "cell_type": "markdown",
   "metadata": {},
   "source": [
    "https://towardsdatascience.com/machine-learning-part-17-boosting-algorithms-adaboost-in-python-d00faac6c464"
   ]
  },
  {
   "cell_type": "code",
   "execution_count": 1,
   "metadata": {
    "scrolled": true
   },
   "outputs": [],
   "source": [
    "# Imports related to data preprocessing\n",
    "\n",
    "from os import path\n",
    "from re import sub\n",
    "from xml.etree.cElementTree import parse as xml_parse\n",
    "\n",
    "import numpy as np\n",
    "import pandas as pd\n",
    "from scipy.stats import skew"
   ]
  },
  {
   "cell_type": "code",
   "execution_count": 2,
   "metadata": {},
   "outputs": [],
   "source": [
    "# Imports for adaboost\n",
    "\n",
    "from sklearn.ensemble import AdaBoostClassifier\n",
    "from sklearn.tree import DecisionTreeClassifier\n",
    "\n",
    "from sklearn.model_selection import train_test_split\n",
    "from sklearn.metrics import confusion_matrix\n",
    "from sklearn.preprocessing import LabelEncoder"
   ]
  },
  {
   "cell_type": "code",
   "execution_count": 3,
   "metadata": {
    "scrolled": true
   },
   "outputs": [],
   "source": [
    "# Retrive data from file\n",
    "\n",
    "def data_retrive(filepath):\n",
    "    #--parseing XML file --#\n",
    "    xmlroot = xml_parse(filepath).getroot()\n",
    "    for section in xmlroot.findall('Section'):\n",
    "        if 'pdmp' in section.get('name').lower():\n",
    "            opt_section = section\n",
    "        else:\n",
    "            fft_section = section\n",
    "\n",
    "\n",
    "    opt_values = {\n",
    "        node.tag: float(node.text)\n",
    "        for node in opt_section.find('BestValues').getchildren()}\n",
    "\n",
    "\n",
    "    snr = float(opt_values['Snr'])\n",
    "\n",
    "    profileNode = opt_section.find('Profile')\n",
    "\n",
    "    vmin = float(profileNode.get('min'))\n",
    "    vmax = float(profileNode.get('max'))\n",
    "    string = profileNode.text\n",
    "    string = sub(\"[\\t\\s\\n]\", \"\", string)\n",
    "\n",
    "    profile = np.asarray(bytearray.fromhex(string),dtype=float)\n",
    "    profile = profile * (vmax - vmin) / 255. + vmin\n",
    "    profile_skew = float(skew(profile))\n",
    "\n",
    "    return(snr,profile_skew)"
   ]
  },
  {
   "cell_type": "code",
   "execution_count": 4,
   "metadata": {},
   "outputs": [
    {
     "name": "stderr",
     "output_type": "stream",
     "text": [
      "C:\\Users\\abhi\\Anaconda3\\lib\\site-packages\\ipykernel_launcher.py:15: DeprecationWarning: This method will be removed in future versions.  Use 'list(elem)' or iteration over elem instead.\n",
      "  from ipykernel import kernelapp as app\n"
     ]
    }
   ],
   "source": [
    "# Load data from files into numpy arrays \n",
    "\n",
    "snr_ar = np.empty(2392)\n",
    "pfskew_ar = np.empty(2392)\n",
    "ispulsar_ar = np.empty(2392, dtype='<U6')       #Used for classification. Yes or No. 1 or 0.\n",
    "\n",
    "fileDir = path.dirname(path.realpath('__file__'))\n",
    "for i in range(1196):\n",
    "    file = '{0:04}'.format(i)\n",
    "    filepath = path.join(fileDir, 'pulsars\\pulsar_' + file + '.phcx')\n",
    "    snr_ar[i],pfskew_ar[i]= data_retrive(filepath)\n",
    "    ispulsar_ar[i] = 'Yes'\n",
    "\n",
    "for i in range(1,1197):\n",
    "    file = '{0:06}'.format(i)\n",
    "    filepath = path.join(fileDir, 'Non_pulsars\\cand_' + file + '.phcx')    #Different path for the non-pulsars\n",
    "    snr_ar[1195 + i],pfskew_ar[1195 + i]= data_retrive(filepath)\n",
    "    ispulsar_ar[1195 + i] = 'No'"
   ]
  },
  {
   "cell_type": "code",
   "execution_count": 11,
   "metadata": {},
   "outputs": [
    {
     "name": "stdout",
     "output_type": "stream",
     "text": [
      "         Snr  Profile skew Is it a pulsar?\n",
      "0  51.500748      3.225603             Yes\n",
      "1  30.875647      3.424006             Yes\n",
      "2  11.802019      1.493347             Yes\n",
      "3  79.968857      5.561036             Yes\n",
      "4  11.877446      1.744047             Yes\n"
     ]
    }
   ],
   "source": [
    "# From array to pandas dataframe\n",
    "\n",
    "dataset = pd.DataFrame({'Snr':snr_ar,'Profile skew':pfskew_ar,'Is it a pulsar?':ispulsar_ar})\n",
    "print(dataset.head())\n",
    "X = dataset[['Snr','Profile skew']]\n",
    "Y = dataset[['Is it a pulsar?']].astype('category')"
   ]
  },
  {
   "cell_type": "code",
   "execution_count": 6,
   "metadata": {
    "scrolled": false
   },
   "outputs": [
    {
     "name": "stderr",
     "output_type": "stream",
     "text": [
      "C:\\Users\\abhi\\Anaconda3\\lib\\site-packages\\sklearn\\preprocessing\\_label.py:251: DataConversionWarning: A column-vector y was passed when a 1d array was expected. Please change the shape of y to (n_samples, ), for example using ravel().\n",
      "  y = column_or_1d(y, warn=True)\n"
     ]
    }
   ],
   "source": [
    "# Spliting into training set and test set and one-hot encodeing. 1 = pulsar\n",
    "\n",
    "encoder = LabelEncoder()\n",
    "binary_encoded_y = pd.Series(encoder.fit_transform(Y))\n",
    "train_X, test_X, train_y, test_y = train_test_split(X, binary_encoded_y, random_state=1)"
   ]
  },
  {
   "cell_type": "code",
   "execution_count": 7,
   "metadata": {},
   "outputs": [
    {
     "data": {
      "text/plain": [
       "AdaBoostClassifier(algorithm='SAMME.R',\n",
       "                   base_estimator=DecisionTreeClassifier(ccp_alpha=0.0,\n",
       "                                                         class_weight=None,\n",
       "                                                         criterion='gini',\n",
       "                                                         max_depth=1,\n",
       "                                                         max_features=None,\n",
       "                                                         max_leaf_nodes=None,\n",
       "                                                         min_impurity_decrease=0.0,\n",
       "                                                         min_impurity_split=None,\n",
       "                                                         min_samples_leaf=1,\n",
       "                                                         min_samples_split=2,\n",
       "                                                         min_weight_fraction_leaf=0.0,\n",
       "                                                         presort='deprecated',\n",
       "                                                         random_state=None,\n",
       "                                                         splitter='best'),\n",
       "                   learning_rate=1.0, n_estimators=250, random_state=None)"
      ]
     },
     "execution_count": 7,
     "metadata": {},
     "output_type": "execute_result"
    }
   ],
   "source": [
    "# Define classifier with params\n",
    "\n",
    "classifier = AdaBoostClassifier(\n",
    "    DecisionTreeClassifier(max_depth=1),\n",
    "    n_estimators=250\n",
    ")\n",
    "\n",
    "# Train classifier\n",
    "classifier.fit(train_X, train_y)"
   ]
  },
  {
   "cell_type": "code",
   "execution_count": 8,
   "metadata": {},
   "outputs": [],
   "source": [
    "# Evaluate on test set\n",
    "predictions = classifier.predict(test_X)\n",
    "\n",
    "result = confusion_matrix(test_y, predictions)"
   ]
  },
  {
   "cell_type": "code",
   "execution_count": 9,
   "metadata": {},
   "outputs": [
    {
     "name": "stdout",
     "output_type": "stream",
     "text": [
      "Correctly identified pulsars = 292\n",
      "Correctly identified as Non-pulsars = 291\n",
      "\n",
      "Wrongly identified as pulsars = 8\n",
      "Wrongly identified as Non-pulsars = 7\n",
      "\n",
      "\n",
      "Recall rate = 97.65886287625418 %\n",
      "\n",
      "\n",
      "False positive rate = 2.6755852842809364 %\n"
     ]
    }
   ],
   "source": [
    "# Displaying results\n",
    "print('Correctly identified pulsars =', result[0][0])\n",
    "print('Correctly identified as Non-pulsars =', result[1][1])\n",
    "\n",
    "print('\\nWrongly identified as pulsars =', result[0][1])\n",
    "print('Wrongly identified as Non-pulsars =', result[1][0])\n",
    "\n",
    "\n",
    "print('\\n\\nRecall rate =',result[0][0]/(result[0][0]+result[1][0])*100,'%')\n",
    "print('\\n\\nFalse positive rate =',result[0][1]/(result[1][1]+result[0][1])*100,'%')"
   ]
  },
  {
   "cell_type": "code",
   "execution_count": 10,
   "metadata": {},
   "outputs": [
    {
     "data": {
      "image/png": "[encoded data removed]",
      "text/plain": [
       "<Figure size 432x288 with 2 Axes>"
      ]
     },
     "metadata": {},
     "output_type": "display_data"
    }
   ],
   "source": [
    "# plotting resulting confusion matrix\n",
    "\n",
    "import seaborn as sn\n",
    "import matplotlib.pyplot as plt\n",
    "\n",
    "\n",
    "df_cm = pd.DataFrame(result, ['Pulsars','Non-pulsars'], ['Identified as pulsar', 'Identified as non-pulsar'])\n",
    "sn.set(font_scale=1.2) # for label size\n",
    "sn.heatmap(df_cm, annot=True,cmap='Blues', fmt='g')\n",
    "\n",
    "plt.show()"
   ]
  }
 ],
 "metadata": {
  "kernelspec": {
   "display_name": "Python 3",
   "language": "python",
   "name": "python3"
  },
  "language_info": {
   "codemirror_mode": {
    "name": "ipython",
    "version": 3
   },
   "file_extension": ".py",
   "mimetype": "text/x-python",
   "name": "python",
   "nbconvert_exporter": "python",
   "pygments_lexer": "ipython3",
   "version": "3.7.6"
  }
 },
 "nbformat": 4,
 "nbformat_minor": 4
}
